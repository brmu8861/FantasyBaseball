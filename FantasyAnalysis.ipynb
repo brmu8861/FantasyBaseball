{
 "cells": [
  {
   "cell_type": "code",
   "execution_count": 1,
   "metadata": {},
   "outputs": [],
   "source": [
    "import numpy as np \n",
    "import pandas as pd\n",
    "\n",
    "file_path1 = 'Batting.csv'\n",
    "file_path2 = 'FanGraphsLeaderboard.csv'\n",
    "\n",
    "batting = pd.read_csv(file_path1)\n",
    "fangraphs = pd.read_csv(file_path2)"
   ]
  },
  {
   "cell_type": "code",
   "execution_count": 12,
   "metadata": {},
   "outputs": [
    {
     "data": {
      "text/plain": [
       "['playerID',\n",
       " 'yearID',\n",
       " 'stint',\n",
       " 'teamID',\n",
       " 'lgID',\n",
       " 'G',\n",
       " 'AB',\n",
       " 'R',\n",
       " 'H',\n",
       " '2B',\n",
       " '3B',\n",
       " 'HR',\n",
       " 'RBI',\n",
       " 'SB',\n",
       " 'CS',\n",
       " 'BB',\n",
       " 'SO',\n",
       " 'IBB',\n",
       " 'HBP',\n",
       " 'SH',\n",
       " 'SF',\n",
       " 'GIDP']"
      ]
     },
     "execution_count": 12,
     "metadata": {},
     "output_type": "execute_result"
    }
   ],
   "source": [
    "batting = batting.dropna()\n",
    "batting = batting.loc[(batting['AB'] > 0) & (batting['yearID']==2018) ]\n",
    "list(batting)\n",
    "#batting.head()"
   ]
  },
  {
   "cell_type": "code",
   "execution_count": 13,
   "metadata": {},
   "outputs": [
    {
     "data": {
      "text/plain": [
       "['Name',\n",
       " 'Team',\n",
       " 'G',\n",
       " 'PA',\n",
       " 'HR',\n",
       " 'R',\n",
       " 'RBI',\n",
       " 'SB',\n",
       " 'BB%',\n",
       " 'K%',\n",
       " 'ISO',\n",
       " 'BABIP',\n",
       " 'AVG',\n",
       " 'OBP',\n",
       " 'SLG',\n",
       " 'wOBA',\n",
       " 'wRC+',\n",
       " 'BsR',\n",
       " 'Off',\n",
       " 'Def',\n",
       " 'WAR',\n",
       " 'playerid']"
      ]
     },
     "execution_count": 13,
     "metadata": {},
     "output_type": "execute_result"
    }
   ],
   "source": [
    "list(fangraphs)\n",
    "#fangraphs.head()"
   ]
  },
  {
   "cell_type": "code",
   "execution_count": 17,
   "metadata": {},
   "outputs": [
    {
     "data": {
      "text/plain": [
       "['playerID',\n",
       " 'yearID',\n",
       " 'stint',\n",
       " 'teamID',\n",
       " 'lgID',\n",
       " 'G',\n",
       " 'AB',\n",
       " 'R_x',\n",
       " 'H',\n",
       " '2B',\n",
       " '3B',\n",
       " 'HR',\n",
       " 'RBI',\n",
       " 'SB_x',\n",
       " 'CS',\n",
       " 'BB',\n",
       " 'SO',\n",
       " 'IBB',\n",
       " 'HBP',\n",
       " 'SH',\n",
       " 'SF',\n",
       " 'GIDP',\n",
       " 'Name',\n",
       " 'Team',\n",
       " 'PA',\n",
       " 'R_y',\n",
       " 'SB_y',\n",
       " 'BB%',\n",
       " 'K%',\n",
       " 'ISO',\n",
       " 'BABIP',\n",
       " 'AVG',\n",
       " 'OBP',\n",
       " 'SLG',\n",
       " 'wOBA',\n",
       " 'wRC+',\n",
       " 'BsR',\n",
       " 'Off',\n",
       " 'Def',\n",
       " 'WAR',\n",
       " 'playerid']"
      ]
     },
     "execution_count": 17,
     "metadata": {},
     "output_type": "execute_result"
    }
   ],
   "source": [
    "result = pd.merge(batting, \n",
    "                 fangraphs,\n",
    "                 on=['G','HR','RBI'],how='inner')\n",
    "result.head()\n",
    "list(result)"
   ]
  },
  {
   "cell_type": "code",
   "execution_count": null,
   "metadata": {},
   "outputs": [],
   "source": []
  }
 ],
 "metadata": {
  "kernelspec": {
   "display_name": "Python 2",
   "language": "python",
   "name": "python2"
  },
  "language_info": {
   "codemirror_mode": {
    "name": "ipython",
    "version": 2
   },
   "file_extension": ".py",
   "mimetype": "text/x-python",
   "name": "python",
   "nbconvert_exporter": "python",
   "pygments_lexer": "ipython2",
   "version": "2.7.15"
  }
 },
 "nbformat": 4,
 "nbformat_minor": 2
}
